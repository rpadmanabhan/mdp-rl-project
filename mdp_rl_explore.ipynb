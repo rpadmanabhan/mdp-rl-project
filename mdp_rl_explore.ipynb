{
  "nbformat": 4,
  "nbformat_minor": 0,
  "metadata": {
    "colab": {
      "name": "mdp_rl_explore.ipynb",
      "provenance": [],
      "collapsed_sections": [],
      "authorship_tag": "ABX9TyMyyN/AMs+jIQIxpZgaCFsa",
      "include_colab_link": true
    },
    "kernelspec": {
      "name": "python3",
      "display_name": "Python 3"
    },
    "language_info": {
      "name": "python"
    }
  },
  "cells": [
    {
      "cell_type": "markdown",
      "metadata": {
        "id": "view-in-github",
        "colab_type": "text"
      },
      "source": [
        "<a href=\"https://colab.research.google.com/github/rpadmanabhan/mdp-rl-project/blob/main/mdp_rl_explore.ipynb\" target=\"_parent\"><img src=\"https://colab.research.google.com/assets/colab-badge.svg\" alt=\"Open In Colab\"/></a>"
      ]
    },
    {
      "cell_type": "code",
      "execution_count": null,
      "metadata": {
        "colab": {
          "base_uri": "https://localhost:8080/",
          "height": 1000
        },
        "id": "lc9NuuSDKo7d",
        "outputId": "6443bdb1-d042-42bd-c5cd-43802b640d8f"
      },
      "outputs": [
        {
          "output_type": "stream",
          "name": "stdout",
          "text": [
            "Collecting stable-baselines3[extra]\n",
            "  Downloading stable_baselines3-1.5.0-py3-none-any.whl (177 kB)\n",
            "\u001b[K     |████████████████████████████████| 177 kB 5.3 MB/s \n",
            "\u001b[?25hCollecting gym==0.21\n",
            "  Downloading gym-0.21.0.tar.gz (1.5 MB)\n",
            "\u001b[K     |████████████████████████████████| 1.5 MB 33.3 MB/s \n",
            "\u001b[?25hRequirement already satisfied: numpy in /usr/local/lib/python3.7/dist-packages (from stable-baselines3[extra]) (1.21.6)\n",
            "Requirement already satisfied: torch>=1.8.1 in /usr/local/lib/python3.7/dist-packages (from stable-baselines3[extra]) (1.10.0+cu111)\n",
            "Requirement already satisfied: matplotlib in /usr/local/lib/python3.7/dist-packages (from stable-baselines3[extra]) (3.2.2)\n",
            "Requirement already satisfied: pandas in /usr/local/lib/python3.7/dist-packages (from stable-baselines3[extra]) (1.3.5)\n",
            "Requirement already satisfied: cloudpickle in /usr/local/lib/python3.7/dist-packages (from stable-baselines3[extra]) (1.3.0)\n",
            "Collecting ale-py~=0.7.4\n",
            "  Downloading ale_py-0.7.5-cp37-cp37m-manylinux_2_17_x86_64.manylinux2014_x86_64.whl (1.6 MB)\n",
            "\u001b[K     |████████████████████████████████| 1.6 MB 34.8 MB/s \n",
            "\u001b[?25hRequirement already satisfied: pillow in /usr/local/lib/python3.7/dist-packages (from stable-baselines3[extra]) (7.1.2)\n",
            "Requirement already satisfied: opencv-python in /usr/local/lib/python3.7/dist-packages (from stable-baselines3[extra]) (4.1.2.30)\n",
            "Requirement already satisfied: psutil in /usr/local/lib/python3.7/dist-packages (from stable-baselines3[extra]) (5.4.8)\n",
            "Collecting autorom[accept-rom-license]~=0.4.2\n",
            "  Downloading AutoROM-0.4.2-py3-none-any.whl (16 kB)\n",
            "Requirement already satisfied: tensorboard>=2.2.0 in /usr/local/lib/python3.7/dist-packages (from stable-baselines3[extra]) (2.8.0)\n",
            "Requirement already satisfied: importlib_metadata>=4.8.1 in /usr/local/lib/python3.7/dist-packages (from gym==0.21->stable-baselines3[extra]) (4.11.3)\n",
            "Requirement already satisfied: importlib-resources in /usr/local/lib/python3.7/dist-packages (from ale-py~=0.7.4->stable-baselines3[extra]) (5.7.0)\n",
            "Requirement already satisfied: tqdm in /usr/local/lib/python3.7/dist-packages (from autorom[accept-rom-license]~=0.4.2->stable-baselines3[extra]) (4.64.0)\n",
            "Requirement already satisfied: click in /usr/local/lib/python3.7/dist-packages (from autorom[accept-rom-license]~=0.4.2->stable-baselines3[extra]) (7.1.2)\n",
            "Requirement already satisfied: requests in /usr/local/lib/python3.7/dist-packages (from autorom[accept-rom-license]~=0.4.2->stable-baselines3[extra]) (2.23.0)\n",
            "Collecting AutoROM.accept-rom-license\n",
            "  Downloading AutoROM.accept-rom-license-0.4.2.tar.gz (9.8 kB)\n",
            "  Installing build dependencies ... \u001b[?25l\u001b[?25hdone\n",
            "  Getting requirements to build wheel ... \u001b[?25l\u001b[?25hdone\n",
            "    Preparing wheel metadata ... \u001b[?25l\u001b[?25hdone\n",
            "Requirement already satisfied: typing-extensions>=3.6.4 in /usr/local/lib/python3.7/dist-packages (from importlib_metadata>=4.8.1->gym==0.21->stable-baselines3[extra]) (4.1.1)\n",
            "Requirement already satisfied: zipp>=0.5 in /usr/local/lib/python3.7/dist-packages (from importlib_metadata>=4.8.1->gym==0.21->stable-baselines3[extra]) (3.8.0)\n",
            "Requirement already satisfied: grpcio>=1.24.3 in /usr/local/lib/python3.7/dist-packages (from tensorboard>=2.2.0->stable-baselines3[extra]) (1.44.0)\n",
            "Requirement already satisfied: werkzeug>=0.11.15 in /usr/local/lib/python3.7/dist-packages (from tensorboard>=2.2.0->stable-baselines3[extra]) (1.0.1)\n",
            "Requirement already satisfied: google-auth<3,>=1.6.3 in /usr/local/lib/python3.7/dist-packages (from tensorboard>=2.2.0->stable-baselines3[extra]) (1.35.0)\n",
            "Requirement already satisfied: absl-py>=0.4 in /usr/local/lib/python3.7/dist-packages (from tensorboard>=2.2.0->stable-baselines3[extra]) (1.0.0)\n",
            "Requirement already satisfied: google-auth-oauthlib<0.5,>=0.4.1 in /usr/local/lib/python3.7/dist-packages (from tensorboard>=2.2.0->stable-baselines3[extra]) (0.4.6)\n",
            "Requirement already satisfied: tensorboard-data-server<0.7.0,>=0.6.0 in /usr/local/lib/python3.7/dist-packages (from tensorboard>=2.2.0->stable-baselines3[extra]) (0.6.1)\n",
            "Requirement already satisfied: wheel>=0.26 in /usr/local/lib/python3.7/dist-packages (from tensorboard>=2.2.0->stable-baselines3[extra]) (0.37.1)\n",
            "Requirement already satisfied: tensorboard-plugin-wit>=1.6.0 in /usr/local/lib/python3.7/dist-packages (from tensorboard>=2.2.0->stable-baselines3[extra]) (1.8.1)\n",
            "Requirement already satisfied: protobuf>=3.6.0 in /usr/local/lib/python3.7/dist-packages (from tensorboard>=2.2.0->stable-baselines3[extra]) (3.17.3)\n",
            "Requirement already satisfied: markdown>=2.6.8 in /usr/local/lib/python3.7/dist-packages (from tensorboard>=2.2.0->stable-baselines3[extra]) (3.3.6)\n",
            "Requirement already satisfied: setuptools>=41.0.0 in /usr/local/lib/python3.7/dist-packages (from tensorboard>=2.2.0->stable-baselines3[extra]) (57.4.0)\n",
            "Requirement already satisfied: six in /usr/local/lib/python3.7/dist-packages (from absl-py>=0.4->tensorboard>=2.2.0->stable-baselines3[extra]) (1.15.0)\n",
            "Requirement already satisfied: cachetools<5.0,>=2.0.0 in /usr/local/lib/python3.7/dist-packages (from google-auth<3,>=1.6.3->tensorboard>=2.2.0->stable-baselines3[extra]) (4.2.4)\n",
            "Requirement already satisfied: rsa<5,>=3.1.4 in /usr/local/lib/python3.7/dist-packages (from google-auth<3,>=1.6.3->tensorboard>=2.2.0->stable-baselines3[extra]) (4.8)\n",
            "Requirement already satisfied: pyasn1-modules>=0.2.1 in /usr/local/lib/python3.7/dist-packages (from google-auth<3,>=1.6.3->tensorboard>=2.2.0->stable-baselines3[extra]) (0.2.8)\n",
            "Requirement already satisfied: requests-oauthlib>=0.7.0 in /usr/local/lib/python3.7/dist-packages (from google-auth-oauthlib<0.5,>=0.4.1->tensorboard>=2.2.0->stable-baselines3[extra]) (1.3.1)\n",
            "Requirement already satisfied: pyasn1<0.5.0,>=0.4.6 in /usr/local/lib/python3.7/dist-packages (from pyasn1-modules>=0.2.1->google-auth<3,>=1.6.3->tensorboard>=2.2.0->stable-baselines3[extra]) (0.4.8)\n",
            "Requirement already satisfied: chardet<4,>=3.0.2 in /usr/local/lib/python3.7/dist-packages (from requests->autorom[accept-rom-license]~=0.4.2->stable-baselines3[extra]) (3.0.4)\n",
            "Requirement already satisfied: certifi>=2017.4.17 in /usr/local/lib/python3.7/dist-packages (from requests->autorom[accept-rom-license]~=0.4.2->stable-baselines3[extra]) (2021.10.8)\n",
            "Requirement already satisfied: idna<3,>=2.5 in /usr/local/lib/python3.7/dist-packages (from requests->autorom[accept-rom-license]~=0.4.2->stable-baselines3[extra]) (2.10)\n",
            "Requirement already satisfied: urllib3!=1.25.0,!=1.25.1,<1.26,>=1.21.1 in /usr/local/lib/python3.7/dist-packages (from requests->autorom[accept-rom-license]~=0.4.2->stable-baselines3[extra]) (1.24.3)\n",
            "Requirement already satisfied: oauthlib>=3.0.0 in /usr/local/lib/python3.7/dist-packages (from requests-oauthlib>=0.7.0->google-auth-oauthlib<0.5,>=0.4.1->tensorboard>=2.2.0->stable-baselines3[extra]) (3.2.0)\n",
            "Requirement already satisfied: cycler>=0.10 in /usr/local/lib/python3.7/dist-packages (from matplotlib->stable-baselines3[extra]) (0.11.0)\n",
            "Requirement already satisfied: pyparsing!=2.0.4,!=2.1.2,!=2.1.6,>=2.0.1 in /usr/local/lib/python3.7/dist-packages (from matplotlib->stable-baselines3[extra]) (3.0.8)\n",
            "Requirement already satisfied: kiwisolver>=1.0.1 in /usr/local/lib/python3.7/dist-packages (from matplotlib->stable-baselines3[extra]) (1.4.2)\n",
            "Requirement already satisfied: python-dateutil>=2.1 in /usr/local/lib/python3.7/dist-packages (from matplotlib->stable-baselines3[extra]) (2.8.2)\n",
            "Requirement already satisfied: pytz>=2017.3 in /usr/local/lib/python3.7/dist-packages (from pandas->stable-baselines3[extra]) (2022.1)\n",
            "Building wheels for collected packages: gym, AutoROM.accept-rom-license\n",
            "  Building wheel for gym (setup.py) ... \u001b[?25l\u001b[?25hdone\n",
            "  Created wheel for gym: filename=gym-0.21.0-py3-none-any.whl size=1616825 sha256=630c9c29d9c017d61c97c5d3808280afc84ec765a8b7254e15a26e92d5032c6a\n",
            "  Stored in directory: /root/.cache/pip/wheels/76/ee/9c/36bfe3e079df99acf5ae57f4e3464ff2771b34447d6d2f2148\n",
            "  Building wheel for AutoROM.accept-rom-license (PEP 517) ... \u001b[?25l\u001b[?25hdone\n",
            "  Created wheel for AutoROM.accept-rom-license: filename=AutoROM.accept_rom_license-0.4.2-py3-none-any.whl size=441027 sha256=ebf2cb56560413880c2d3f5daab5d7604ca4c5e4b0d2a794c24d11e523ec4b89\n",
            "  Stored in directory: /root/.cache/pip/wheels/87/67/2e/6147e7912fe37f5408b80d07527dab807c1d25f5c403a9538a\n",
            "Successfully built gym AutoROM.accept-rom-license\n",
            "Installing collected packages: gym, AutoROM.accept-rom-license, autorom, stable-baselines3, ale-py\n",
            "  Attempting uninstall: gym\n",
            "    Found existing installation: gym 0.17.3\n",
            "    Uninstalling gym-0.17.3:\n",
            "      Successfully uninstalled gym-0.17.3\n",
            "Successfully installed AutoROM.accept-rom-license-0.4.2 ale-py-0.7.5 autorom-0.4.2 gym-0.21.0 stable-baselines3-1.5.0\n"
          ]
        },
        {
          "output_type": "display_data",
          "data": {
            "application/vnd.colab-display-data+json": {
              "pip_warning": {
                "packages": [
                  "gym"
                ]
              }
            }
          },
          "metadata": {}
        }
      ],
      "source": [
        "!pip install stable-baselines3[extra]"
      ]
    },
    {
      "cell_type": "code",
      "source": [
        "from dataclasses import dataclass, field\n",
        "from typing import Dict, List"
      ],
      "metadata": {
        "id": "BLQqcp4rWV3i"
      },
      "execution_count": null,
      "outputs": []
    },
    {
      "cell_type": "code",
      "source": [
        "import gym\n",
        "from gym import spaces\n",
        "\n",
        "from stable_baselines3.common.env_checker import check_env\n",
        "from stable_baselines3 import DQN, PPO, A2C\n",
        "from stable_baselines3.common.cmd_util import make_vec_env\n",
        "\n",
        "\n",
        "import numpy as np"
      ],
      "metadata": {
        "id": "YKhtdL5aK0zP"
      },
      "execution_count": null,
      "outputs": []
    },
    {
      "cell_type": "code",
      "source": [
        "@dataclass(frozen = True)\n",
        "class RegionOfInterest:\n",
        "    chrom: str\n",
        "    start: int\n",
        "    end: int\n",
        "    info: Dict = field(default_factory = dict)\n",
        "\n",
        "@dataclass(frozen = True)\n",
        "class SinglePrimerOligo:\n",
        "    seq: str\n",
        "    chrom: str\n",
        "    loc5: int\n",
        "    loc3: int\n",
        "    strand: int\n",
        "\n",
        "    def ret_coverage_range(self):\n",
        "        if self.strand == 0:\n",
        "            return (self.loc3 + 1, self.loc3 + 150)\n",
        "        else:\n",
        "            return (self.loc3 - 150, self.loc3 - 1)\n",
        "\n",
        "    def covered_bases_for_roi(self, roi: RegionOfInterest):\n",
        "        oligo_cov_start, oligo_cov_end = self.ret_coverage_range()\n",
        "        return (max(oligo_cov_start, roi.start), min(oligo_cov_end, roi.end))\n",
        "\n",
        "    def oligo_score(self):\n",
        "        return 1\n",
        "\n",
        "\n",
        "@dataclass(frozen = True)\n",
        "class ProbeOligo:\n",
        "    seq: str\n",
        "    hyb_extension: int = 50\n",
        "\n",
        "    def ret_coverage_range(self, ref_seq):\n",
        "        start = ref_seq.find(seq)\n",
        "        assert start != -1\n",
        "        # return coverage [start, end) range in reference sequence\n",
        "        return start - self.hyb_extension, start + len(seq) + self.hyb_extension\n",
        "\n",
        "class RefSequences:\n",
        "    sequences: Dict[str, str]\n",
        "\n",
        "    def __postinit__(self):\n",
        "        self.coverage_profile = {seq_name: np.zeros(len(seq)) for seq_name, seq in sequences.items()}\n",
        "\n",
        "    def update_coverage_profile(self, probe: ProbeOligo):\n",
        "        \"\"\" Update base level coverage for all reference sequences\n",
        "        \"\"\"\n",
        "        for seq_name,seq in sequences.items():\n",
        "            start, end = probe.ret_coverage_range(seq)\n",
        "            for idx in range(start, end):\n",
        "                self.coverage_profile[seq_name][idx] += 1\n",
        "\n",
        "    def ret_num_bases_covered(self):\n",
        "        \"\"\" Provide a count for the number of bases covered for each reference sequence\n",
        "        \"\"\"\n",
        "        num_bases_covered = []\n",
        "        for seq_name, seq in sequences.items():\n",
        "            num_bases_covered.append(np.count_nonzero(self.coverage_profile[seq_name]))\n",
        "        return num_bases_covered\n",
        "\n",
        "    def ret_mean_bases_covered(self):\n",
        "        \"\"\"Return mean bases covered across all reference sequences\n",
        "        \"\"\"\n",
        "        return statistics.mean(self.ret_num_bases_covered())\n",
        "\n",
        "\n",
        "class OligoEnv(gym.Env):\n",
        "    def __init__(self, *args, roi: RegionOfInterest, oligos: List[SinglePrimerOligo], **kwargs):\n",
        "        super(OligoEnv, self).__init__()\n",
        "\n",
        "        # initialize ROI\n",
        "        self.roi = roi\n",
        "\n",
        "        # all possible oligos we have\n",
        "        self.oligos = oligos\n",
        "\n",
        "        # where is the agent ?\n",
        "\n",
        "        # action space\n",
        "        self.action_space = spaces.Discrete(len(self.oligos))\n",
        "\n",
        "        # observation space - state of the agent\n",
        "        self.observation_space = spaces.MultiBinary(len(self.oligos))\n",
        "\n",
        "        # some reward related constants\n",
        "        self._reward_oligo_penalty = -10\n",
        "        self._reward_action_masking = -5\n",
        "\n",
        "        # variables to reset for state space\n",
        "        self._actions_taken = None\n",
        "\n",
        "    def _check_termination(self, observation):\n",
        "        return np.all(observation == 1)\n",
        "\n",
        "    def _compute_reward(self, action):\n",
        "        oligo = self.oligos[action]\n",
        "        covered_bases_range = oligo.covered_bases_for_roi(self.roi)\n",
        "        total_covered_bases = covered_bases_range[1] - covered_bases_range[0]\n",
        "\n",
        "        return total_covered_bases + self._reward_oligo_penalty\n",
        "\n",
        "    def step(self, action):\n",
        "        \"\"\"\n",
        "        \"\"\"\n",
        "\n",
        "        reward = self._reward_action_masking\n",
        "        if action not in self._actions_taken:\n",
        "            self._actions_taken.add(action)\n",
        "            reward = self._compute_reward(action)\n",
        "\n",
        "        observation = np.array([1 if idx in self._actions_taken else 0 for idx in range(0, len(self.oligos))], dtype = np.int8)\n",
        "        done = bool(self._check_termination(observation))\n",
        "        info = {}\n",
        "        return observation, reward, done, info\n",
        "\n",
        "    def reset(self):\n",
        "\n",
        "        # no oligos picked\n",
        "        self._actions_taken = set({})\n",
        "        init_observation = np.zeros(len(self.oligos), dtype = np.int8)\n",
        "\n",
        "        return init_observation\n",
        "\n",
        "    def render(self, mode = \"console\"):\n",
        "        pass\n",
        "\n",
        "    def close (self):\n",
        "        pass"
      ],
      "metadata": {
        "id": "sYnbKjw-jHvi"
      },
      "execution_count": null,
      "outputs": []
    },
    {
      "cell_type": "code",
      "source": [
        "oligos = [\n",
        "          SinglePrimerOligo(seq = \"ACCG\", chrom = \"1\", loc5 = 10, loc3 = 20, strand = 0),\n",
        "          SinglePrimerOligo(seq = \"ACCT\", chrom = \"1\", loc5 = 2, loc3 = 14, strand = 0),\n",
        "          SinglePrimerOligo(seq = \"ACGG\", chrom = \"1\", loc5 = 18, loc3 = 25, strand = 0)\n",
        "]\n",
        "roi = RegionOfInterest(chrom = \"1\", start = 15, end = 300)\n"
      ],
      "metadata": {
        "id": "7zbL5hR7TJMU"
      },
      "execution_count": null,
      "outputs": []
    },
    {
      "cell_type": "code",
      "source": [
        "env = OligoEnv(roi = roi, oligos = oligos)"
      ],
      "metadata": {
        "id": "mVzvX-ZET_we"
      },
      "execution_count": null,
      "outputs": []
    },
    {
      "cell_type": "code",
      "source": [
        "check_env(env)\n"
      ],
      "metadata": {
        "id": "hIvKR516Xd-6"
      },
      "execution_count": null,
      "outputs": []
    },
    {
      "cell_type": "code",
      "source": [
        "test_space = spaces.MultiBinary(5)\n",
        "test_space.sample().shape"
      ],
      "metadata": {
        "colab": {
          "base_uri": "https://localhost:8080/"
        },
        "id": "UE8ujhdDT9oU",
        "outputId": "32e76934-4c62-467c-d47b-f54de45f1631"
      },
      "execution_count": null,
      "outputs": [
        {
          "output_type": "execute_result",
          "data": {
            "text/plain": [
              "(5,)"
            ]
          },
          "metadata": {},
          "execution_count": 26
        }
      ]
    },
    {
      "cell_type": "code",
      "source": [
        "np.zeros(5, dtype = np.int8).shape"
      ],
      "metadata": {
        "colab": {
          "base_uri": "https://localhost:8080/"
        },
        "id": "CVkWTI9MUUeU",
        "outputId": "67946850-7b28-4099-b336-a5869e11cb45"
      },
      "execution_count": null,
      "outputs": [
        {
          "output_type": "execute_result",
          "data": {
            "text/plain": [
              "(5,)"
            ]
          },
          "metadata": {},
          "execution_count": 27
        }
      ]
    },
    {
      "cell_type": "code",
      "source": [
        "np.all(np.array([0, 1, 0, 1], dtype = np.int8).shape == 0)"
      ],
      "metadata": {
        "colab": {
          "base_uri": "https://localhost:8080/"
        },
        "id": "TSXnL_jbUdGj",
        "outputId": "dabe4fe4-51b8-4d6c-f567-6fe6b23aa1cf"
      },
      "execution_count": null,
      "outputs": [
        {
          "output_type": "execute_result",
          "data": {
            "text/plain": [
              "False"
            ]
          },
          "metadata": {},
          "execution_count": 59
        }
      ]
    },
    {
      "cell_type": "code",
      "source": [
        "test_space.contains(np.zeros(5, dtype = np.int8))"
      ],
      "metadata": {
        "colab": {
          "base_uri": "https://localhost:8080/"
        },
        "id": "d5BTckyBVcBN",
        "outputId": "9dd41a08-377d-45ec-8bb2-a15421552e07"
      },
      "execution_count": null,
      "outputs": [
        {
          "output_type": "execute_result",
          "data": {
            "text/plain": [
              "True"
            ]
          },
          "metadata": {},
          "execution_count": 30
        }
      ]
    },
    {
      "cell_type": "code",
      "source": [
        "env_wrap = make_vec_env(lambda: env, n_envs = 1)\n",
        "model = DQN(\"MlpPolicy\", env, verbose = 1).learn(100)"
      ],
      "metadata": {
        "colab": {
          "base_uri": "https://localhost:8080/"
        },
        "id": "jK9i6z2xVrPV",
        "outputId": "0526d1d0-fcfa-4d7c-beed-8bc983009d65"
      },
      "execution_count": null,
      "outputs": [
        {
          "output_type": "stream",
          "name": "stdout",
          "text": [
            "Using cpu device\n",
            "Wrapping the env with a `Monitor` wrapper\n",
            "Wrapping the env in a DummyVecEnv.\n",
            "----------------------------------\n",
            "| rollout/            |          |\n",
            "|    ep_len_mean      | 4.75     |\n",
            "|    ep_rew_mean      | 408      |\n",
            "|    exploration_rate | 0.05     |\n",
            "| time/               |          |\n",
            "|    episodes         | 4        |\n",
            "|    fps              | 5358     |\n",
            "|    time_elapsed     | 0        |\n",
            "|    total_timesteps  | 19       |\n",
            "----------------------------------\n",
            "----------------------------------\n",
            "| rollout/            |          |\n",
            "|    ep_len_mean      | 6.62     |\n",
            "|    ep_rew_mean      | 399      |\n",
            "|    exploration_rate | 0.05     |\n",
            "| time/               |          |\n",
            "|    episodes         | 8        |\n",
            "|    fps              | 4210     |\n",
            "|    time_elapsed     | 0        |\n",
            "|    total_timesteps  | 53       |\n",
            "----------------------------------\n",
            "----------------------------------\n",
            "| rollout/            |          |\n",
            "|    ep_len_mean      | 6.5      |\n",
            "|    ep_rew_mean      | 400      |\n",
            "|    exploration_rate | 0.05     |\n",
            "| time/               |          |\n",
            "|    episodes         | 12       |\n",
            "|    fps              | 3622     |\n",
            "|    time_elapsed     | 0        |\n",
            "|    total_timesteps  | 78       |\n",
            "----------------------------------\n"
          ]
        }
      ]
    },
    {
      "cell_type": "code",
      "source": [
        "obs = env.reset()\n",
        "n_steps = 20\n",
        "for step in range(n_steps):\n",
        "    action, _ = model.predict(obs, deterministic=True)\n",
        "    print(step, action)\n",
        "    print(env.step(action))"
      ],
      "metadata": {
        "colab": {
          "base_uri": "https://localhost:8080/"
        },
        "id": "N8jgwZmxaIo-",
        "outputId": "e0739506-4494-48c2-d37f-1953b57a5583"
      },
      "execution_count": null,
      "outputs": [
        {
          "output_type": "stream",
          "name": "stdout",
          "text": [
            "0 1\n",
            "(array([0, 1, 0], dtype=int8), 139, False, {})\n",
            "1 1\n",
            "(array([0, 1, 0], dtype=int8), -5, False, {})\n",
            "2 1\n",
            "(array([0, 1, 0], dtype=int8), -5, False, {})\n",
            "3 1\n",
            "(array([0, 1, 0], dtype=int8), -5, False, {})\n",
            "4 1\n",
            "(array([0, 1, 0], dtype=int8), -5, False, {})\n",
            "5 1\n",
            "(array([0, 1, 0], dtype=int8), -5, False, {})\n",
            "6 1\n",
            "(array([0, 1, 0], dtype=int8), -5, False, {})\n",
            "7 1\n",
            "(array([0, 1, 0], dtype=int8), -5, False, {})\n",
            "8 1\n",
            "(array([0, 1, 0], dtype=int8), -5, False, {})\n",
            "9 1\n",
            "(array([0, 1, 0], dtype=int8), -5, False, {})\n",
            "10 1\n",
            "(array([0, 1, 0], dtype=int8), -5, False, {})\n",
            "11 1\n",
            "(array([0, 1, 0], dtype=int8), -5, False, {})\n",
            "12 1\n",
            "(array([0, 1, 0], dtype=int8), -5, False, {})\n",
            "13 1\n",
            "(array([0, 1, 0], dtype=int8), -5, False, {})\n",
            "14 1\n",
            "(array([0, 1, 0], dtype=int8), -5, False, {})\n",
            "15 1\n",
            "(array([0, 1, 0], dtype=int8), -5, False, {})\n",
            "16 1\n",
            "(array([0, 1, 0], dtype=int8), -5, False, {})\n",
            "17 1\n",
            "(array([0, 1, 0], dtype=int8), -5, False, {})\n",
            "18 1\n",
            "(array([0, 1, 0], dtype=int8), -5, False, {})\n",
            "19 1\n",
            "(array([0, 1, 0], dtype=int8), -5, False, {})\n"
          ]
        }
      ]
    },
    {
      "cell_type": "code",
      "source": [
        ""
      ],
      "metadata": {
        "id": "H6Wgm_y6aUaM"
      },
      "execution_count": null,
      "outputs": []
    }
  ]
}